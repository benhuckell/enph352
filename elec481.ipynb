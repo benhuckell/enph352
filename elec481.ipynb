{
 "cells": [
  {
   "cell_type": "code",
   "execution_count": 1,
   "metadata": {},
   "outputs": [],
   "source": [
    "def FA(i,n):\n",
    "    i = (i/100)\n",
    "    return ((1+i)**n - 1) / i\n",
    "\n",
    "def AF(i,n):\n",
    "    i = (i/100)\n",
    "    return i / ((1+i)**n - 1)\n",
    "\n",
    "def PA(i,n):\n",
    "    i = (i/100)\n",
    "    return ((1+i)**n - 1)/(i*(1+i)**n)\n",
    "\n",
    "def AP(i,n):\n",
    "    i = (i/100)\n",
    "    return (i*(1+i)**n)/((1+i)**n - 1)\n",
    "\n",
    "def FP(i,n):\n",
    "    i = (i/100)\n",
    "    return (1+i)**n\n",
    "\n",
    "def PF(i,n):\n",
    "    i = (i/100)\n",
    "    return 1/(1+i)**n\n",
    "\n",
    "def PG(i,n):\n",
    "    i = i/100\n",
    "    return ((1+i)**n - i*n - 1)/(i**2 * (1+i)**n)\n",
    "\n",
    "def AG(i,n):\n",
    "    i = i/100\n",
    "    return (1/i) - n/((1+i)**n - 1)\n",
    "\n",
    "def PAGeom(i,g,n):\n",
    "    i = (i/100)\n",
    "    g = g/100\n",
    "    return (1-(1+g)**n * (1+i)**(-1*n))/(i-g)"
   ]
  },
  {
   "cell_type": "code",
   "execution_count": 54,
   "metadata": {},
   "outputs": [
    {
     "name": "stdout",
     "output_type": "stream",
     "text": [
      "1.9025201871732094\n",
      "4.901041207593003\n"
     ]
    }
   ],
   "source": [
    "print(AG(5,5))\n",
    "print(PAGeom(4,5,5))"
   ]
  },
  {
   "cell_type": "code",
   "execution_count": 62,
   "metadata": {},
   "outputs": [
    {
     "data": {
      "text/plain": [
       "0.2"
      ]
     },
     "execution_count": 62,
     "metadata": {},
     "output_type": "execute_result"
    }
   ],
   "source": [
    "PF(400,1)"
   ]
  },
  {
   "cell_type": "code",
   "execution_count": null,
   "metadata": {},
   "outputs": [],
   "source": []
  }
 ],
 "metadata": {
  "interpreter": {
   "hash": "81a7fb1f78ea96af2623539b8b12c77006757588e021ce013653788b1bcc3527"
  },
  "kernelspec": {
   "display_name": "Python 3.6.5 32-bit",
   "name": "python3"
  },
  "language_info": {
   "codemirror_mode": {
    "name": "ipython",
    "version": 3
   },
   "file_extension": ".py",
   "mimetype": "text/x-python",
   "name": "python",
   "nbconvert_exporter": "python",
   "pygments_lexer": "ipython3",
   "version": "3.6.5"
  },
  "orig_nbformat": 4
 },
 "nbformat": 4,
 "nbformat_minor": 2
}
