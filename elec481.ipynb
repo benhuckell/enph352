{
 "cells": [
  {
   "cell_type": "code",
   "execution_count": 37,
   "source": [
    "def FA(i,n):\r\n",
    "    return ((1+i)**n - 1) / i\r\n",
    "\r\n",
    "def AF(i,n):\r\n",
    "    return i / ((1+i)**n - 1)\r\n",
    "\r\n",
    "def PA(i,n):\r\n",
    "    return ((1+i)**n - 1)/(i*(1+i)**n)\r\n",
    "\r\n",
    "def AP(i,n):\r\n",
    "    return (i*(1+i)**n)/((1+i)**n - 1)\r\n",
    "\r\n",
    "def FP(i,n):\r\n",
    "    return (1+i)**n\r\n",
    "\r\n",
    "def PF(i,n):\r\n",
    "    return 1/(1+i)**n\r\n",
    "\r\n",
    "def PAGeom(i,g,n):\r\n",
    "    return (1-(1+g)**n * (1+i)**(-1*n))/(i-g)"
   ],
   "outputs": [],
   "metadata": {}
  },
  {
   "cell_type": "code",
   "execution_count": 5,
   "source": [
    "print(AP(0.08,5))\r\n",
    "print(FP(0.023,1))"
   ],
   "outputs": [
    {
     "output_type": "stream",
     "name": "stdout",
     "text": [
      "0.2504564545668364\n",
      "1.023\n"
     ]
    }
   ],
   "metadata": {}
  },
  {
   "cell_type": "code",
   "execution_count": 7,
   "source": [
    "print(AF(0.03,4))"
   ],
   "outputs": [
    {
     "output_type": "stream",
     "name": "stdout",
     "text": [
      "0.23902704519308218\n"
     ]
    }
   ],
   "metadata": {}
  },
  {
   "cell_type": "code",
   "execution_count": 11,
   "source": [
    "print((2500*PA(0.08,4) + 5000*(PF(0.08,4)))*FP(0.08,1))"
   ],
   "outputs": [
    {
     "output_type": "stream",
     "name": "stdout",
     "text": [
      "12911.90367322055\n"
     ]
    }
   ],
   "metadata": {}
  },
  {
   "cell_type": "code",
   "execution_count": 17,
   "source": [
    "AP(0.0025,300)"
   ],
   "outputs": [
    {
     "output_type": "execute_result",
     "data": {
      "text/plain": [
       "0.0047421131385767985"
      ]
     },
     "metadata": {},
     "execution_count": 17
    }
   ],
   "metadata": {}
  },
  {
   "cell_type": "code",
   "execution_count": 33,
   "source": [
    "PF(0.015, 20)"
   ],
   "outputs": [
    {
     "output_type": "execute_result",
     "data": {
      "text/plain": [
       "0.7424704182237725"
      ]
     },
     "metadata": {},
     "execution_count": 33
    }
   ],
   "metadata": {}
  },
  {
   "cell_type": "code",
   "execution_count": 46,
   "source": [
    "AP(0.03, 4)"
   ],
   "outputs": [
    {
     "output_type": "execute_result",
     "data": {
      "text/plain": [
       "0.2690270451930822"
      ]
     },
     "metadata": {},
     "execution_count": 46
    }
   ],
   "metadata": {}
  },
  {
   "cell_type": "code",
   "execution_count": 41,
   "source": [
    "PAGeom(0.05,0.1,20)"
   ],
   "outputs": [
    {
     "output_type": "execute_result",
     "data": {
      "text/plain": [
       "30.710479538589315"
      ]
     },
     "metadata": {},
     "execution_count": 41
    }
   ],
   "metadata": {}
  },
  {
   "cell_type": "code",
   "execution_count": null,
   "source": [],
   "outputs": [],
   "metadata": {}
  }
 ],
 "metadata": {
  "orig_nbformat": 4,
  "language_info": {
   "name": "python",
   "version": "3.6.8",
   "mimetype": "text/x-python",
   "codemirror_mode": {
    "name": "ipython",
    "version": 3
   },
   "pygments_lexer": "ipython3",
   "nbconvert_exporter": "python",
   "file_extension": ".py"
  },
  "kernelspec": {
   "name": "python3",
   "display_name": "Python 3.6.8 64-bit"
  },
  "interpreter": {
   "hash": "1c07045a52bc289f478620078fc3406c00f13f88add91e209d491200c2dd3f38"
  }
 },
 "nbformat": 4,
 "nbformat_minor": 2
}