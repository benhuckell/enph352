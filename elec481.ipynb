{
 "cells": [
  {
   "cell_type": "code",
   "execution_count": 87,
   "source": [
    "def FA(i,n):\r\n",
    "    i = (i/100)\r\n",
    "    return ((1+i)**n - 1) / i\r\n",
    "\r\n",
    "def AF(i,n):\r\n",
    "    i = (i/100)\r\n",
    "    return i / ((1+i)**n - 1)\r\n",
    "\r\n",
    "def PA(i,n):\r\n",
    "    i = (i/100)\r\n",
    "    return ((1+i)**n - 1)/(i*(1+i)**n)\r\n",
    "\r\n",
    "def AP(i,n):\r\n",
    "    i = (i/100)\r\n",
    "    return (i*(1+i)**n)/((1+i)**n - 1)\r\n",
    "\r\n",
    "def FP(i,n):\r\n",
    "    i = (i/100)\r\n",
    "    return (1+i)**n\r\n",
    "\r\n",
    "def PF(i,n):\r\n",
    "    i = (i/100)\r\n",
    "    return 1/(1+i)**n\r\n",
    "\r\n",
    "def PG(i,n):\r\n",
    "    i = i/100\r\n",
    "    return ((1+i)**n - i*n - 1)/(i**2 * (1+i)**n)\r\n",
    "\r\n",
    "def AG(i,n):\r\n",
    "    i = i/100\r\n",
    "    return (1/i) - n/((1+i)**n - 1)\r\n",
    "\r\n",
    "def PAGeom(i,g,n):\r\n",
    "    i = (i/100)\r\n",
    "    g = g/100\r\n",
    "    return (1-(1+g)**n * (1+i)**(-1*n))/(i-g)"
   ],
   "outputs": [],
   "metadata": {}
  },
  {
   "cell_type": "code",
   "execution_count": 5,
   "source": [
    "print(AP(0.08,5))\r\n",
    "print(FP(0.023,1))"
   ],
   "outputs": [
    {
     "output_type": "stream",
     "name": "stdout",
     "text": [
      "0.2504564545668364\n",
      "1.023\n"
     ]
    }
   ],
   "metadata": {}
  },
  {
   "cell_type": "code",
   "execution_count": 4,
   "source": [
    "36000*AP(5,5)"
   ],
   "outputs": [
    {
     "output_type": "execute_result",
     "data": {
      "text/plain": [
       "8315.092732617646"
      ]
     },
     "metadata": {},
     "execution_count": 4
    }
   ],
   "metadata": {}
  },
  {
   "cell_type": "code",
   "execution_count": 39,
   "source": [
    "i = 4.4\r\n",
    "-950 + 40*PA(i,18) + 1000*PF(i,18)"
   ],
   "outputs": [
    {
     "output_type": "execute_result",
     "data": {
      "text/plain": [
       "0.9701054169553345"
      ]
     },
     "metadata": {},
     "execution_count": 39
    }
   ],
   "metadata": {}
  },
  {
   "cell_type": "code",
   "execution_count": 84,
   "source": [
    "i = 4.3\r\n",
    "-3090 + 700*PA(i,5)"
   ],
   "outputs": [
    {
     "output_type": "execute_result",
     "data": {
      "text/plain": [
       "0.18595657409650812"
      ]
     },
     "metadata": {},
     "execution_count": 84
    }
   ],
   "metadata": {}
  },
  {
   "cell_type": "code",
   "execution_count": 92,
   "source": [
    "1400000 + 25000*PF(5.5,10) + 20000*PA(5.5,40) + 60000*PA(5.5,10) + 95000*PA(5.5,30)*PF(5.5,10)"
   ],
   "outputs": [
    {
     "output_type": "execute_result",
     "data": {
      "text/plain": [
       "2996123.199302872"
      ]
     },
     "metadata": {},
     "execution_count": 92
    }
   ],
   "metadata": {}
  },
  {
   "cell_type": "code",
   "execution_count": 147,
   "source": [
    "i = 12.4\r\n",
    "4700 + 3650*PA(i,15) - 9800*PF(i,15) - 4100*PA(i,15)"
   ],
   "outputs": [
    {
     "output_type": "execute_result",
     "data": {
      "text/plain": [
       "2.260855915996217"
      ]
     },
     "metadata": {},
     "execution_count": 147
    }
   ],
   "metadata": {}
  },
  {
   "cell_type": "code",
   "execution_count": 148,
   "source": [
    "50*PA(12,8)"
   ],
   "outputs": [
    {
     "output_type": "execute_result",
     "data": {
      "text/plain": [
       "248.3819883419296"
      ]
     },
     "metadata": {},
     "execution_count": 148
    }
   ],
   "metadata": {}
  },
  {
   "cell_type": "code",
   "execution_count": null,
   "source": [],
   "outputs": [],
   "metadata": {}
  }
 ],
 "metadata": {
  "orig_nbformat": 4,
  "language_info": {
   "name": "python",
   "version": "3.6.5",
   "mimetype": "text/x-python",
   "codemirror_mode": {
    "name": "ipython",
    "version": 3
   },
   "pygments_lexer": "ipython3",
   "nbconvert_exporter": "python",
   "file_extension": ".py"
  },
  "kernelspec": {
   "name": "python3",
   "display_name": "Python 3.6.5 32-bit"
  },
  "interpreter": {
   "hash": "81a7fb1f78ea96af2623539b8b12c77006757588e021ce013653788b1bcc3527"
  }
 },
 "nbformat": 4,
 "nbformat_minor": 2
}